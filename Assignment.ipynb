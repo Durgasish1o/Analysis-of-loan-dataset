{
 "cells": [
  {
   "cell_type": "code",
   "execution_count": 1,
   "id": "a29aae4c",
   "metadata": {},
   "outputs": [],
   "source": [
    "import pandas as pd\n"
   ]
  },
  {
   "cell_type": "code",
   "execution_count": 4,
   "id": "6ebb7dc7",
   "metadata": {},
   "outputs": [],
   "source": [
    "rain=pd.read_csv(\"Rain Prediction Train.csv\")"
   ]
  },
  {
   "cell_type": "code",
   "execution_count": 27,
   "id": "e762e162",
   "metadata": {},
   "outputs": [
    {
     "data": {
      "text/plain": [
       "Index(['Date', 'Location', 'MinTemp', 'MaxTemp', 'Rainfall', 'Evaporation',\n",
       "       'Sunshine', 'WindGustDir', 'WindGustSpeed', 'WindDir9am', 'WindDir3pm',\n",
       "       'WindSpeed9am', 'WindSpeed3pm', 'Humidity9am', 'Humidity3pm',\n",
       "       'Pressure9am', 'Pressure3pm', 'Cloud9am', 'Cloud3pm', 'Temp9am',\n",
       "       'Temp3pm', 'RainToday', 'RainTomorrow'],\n",
       "      dtype='object')"
      ]
     },
     "execution_count": 27,
     "metadata": {},
     "output_type": "execute_result"
    }
   ],
   "source": [
    "rain.columns"
   ]
  },
  {
   "cell_type": "code",
   "execution_count": 15,
   "id": "e36289d0",
   "metadata": {},
   "outputs": [
    {
     "data": {
      "text/plain": [
       "7197     Townsville\n",
       "72545       Woomera\n",
       "Name: Location, dtype: object"
      ]
     },
     "execution_count": 15,
     "metadata": {},
     "output_type": "execute_result"
    }
   ],
   "source": [
    "x=rain[\"WindGustSpeed\"].max()\n",
    "rain[rain[\"WindGustSpeed\"]==x][\"Location\"]"
   ]
  },
  {
   "cell_type": "code",
   "execution_count": 21,
   "id": "ba2783db",
   "metadata": {},
   "outputs": [
    {
     "data": {
      "text/plain": [
       "count    99784.000000\n",
       "mean        23.228404\n",
       "std          7.117851\n",
       "min         -4.800000\n",
       "25%         17.900000\n",
       "50%         22.600000\n",
       "75%         28.200000\n",
       "max         47.300000\n",
       "Name: MaxTemp, dtype: float64"
      ]
     },
     "execution_count": 21,
     "metadata": {},
     "output_type": "execute_result"
    }
   ],
   "source": [
    "y=rain[\"MaxTemp\"].describe()\n",
    "\n",
    "\n"
   ]
  },
  {
   "cell_type": "code",
   "execution_count": 26,
   "id": "5793811f",
   "metadata": {},
   "outputs": [
    {
     "data": {
      "text/plain": [
       "0         CoffsHarbour\n",
       "1             Portland\n",
       "3           Wollongong\n",
       "4           Townsville\n",
       "6                 Sale\n",
       "             ...      \n",
       "99994            Uluru\n",
       "99995     AliceSprings\n",
       "99996        Melbourne\n",
       "99997    SydneyAirport\n",
       "99999            Perth\n",
       "Name: Location, Length: 80077, dtype: object"
      ]
     },
     "execution_count": 26,
     "metadata": {},
     "output_type": "execute_result"
    }
   ],
   "source": [
    "y1=28\n",
    "rain[rain[\"WindGustSpeed\"]>=y1][\"Location\"]"
   ]
  },
  {
   "cell_type": "code",
   "execution_count": 7,
   "id": "0bdc70c0",
   "metadata": {},
   "outputs": [
    {
     "data": {
      "text/plain": [
       "count    98090.000000\n",
       "mean        21.685637\n",
       "std          6.940969\n",
       "min         -5.400000\n",
       "25%         16.600000\n",
       "50%         21.100000\n",
       "75%         26.400000\n",
       "max         46.700000\n",
       "Name: Temp3pm, dtype: float64"
      ]
     },
     "execution_count": 7,
     "metadata": {},
     "output_type": "execute_result"
    }
   ],
   "source": [
    "z1=rain[\"Temp3pm\"].describe()\n",
    "\n",
    "z1\n"
   ]
  },
  {
   "cell_type": "code",
   "execution_count": 2,
   "id": "49e066c3",
   "metadata": {},
   "outputs": [],
   "source": [
    "zmin=66\n",
    "z1min=26.400000\n",
    "\n"
   ]
  },
  {
   "cell_type": "code",
   "execution_count": 8,
   "id": "d8242af4",
   "metadata": {},
   "outputs": [],
   "source": [
    "import numpy as np"
   ]
  },
  {
   "cell_type": "code",
   "execution_count": 13,
   "id": "6589f730",
   "metadata": {},
   "outputs": [
    {
     "ename": "ValueError",
     "evalue": "The truth value of a DataFrame is ambiguous. Use a.empty, a.bool(), a.item(), a.any() or a.all().",
     "output_type": "error",
     "traceback": [
      "\u001b[1;31m---------------------------------------------------------------------------\u001b[0m",
      "\u001b[1;31mValueError\u001b[0m                                Traceback (most recent call last)",
      "\u001b[1;32m<ipython-input-13-fb11020ea013>\u001b[0m in \u001b[0;36m<module>\u001b[1;34m\u001b[0m\n\u001b[1;32m----> 1\u001b[1;33m \u001b[0mrain\u001b[0m\u001b[1;33m[\u001b[0m\u001b[1;34m\"80%humandrain\"\u001b[0m\u001b[1;33m]\u001b[0m\u001b[1;33m=\u001b[0m\u001b[0mrain\u001b[0m\u001b[1;33m[\u001b[0m\u001b[0mrain\u001b[0m\u001b[1;33m[\u001b[0m\u001b[1;34m\"Humidity3pm\"\u001b[0m\u001b[1;33m]\u001b[0m\u001b[1;33m>=\u001b[0m\u001b[0mzmin\u001b[0m\u001b[1;33m]\u001b[0m \u001b[1;32mand\u001b[0m \u001b[0mrain\u001b[0m\u001b[1;33m[\u001b[0m\u001b[0mrain\u001b[0m\u001b[1;33m[\u001b[0m\u001b[1;34m\"Temp3pm\"\u001b[0m\u001b[1;33m]\u001b[0m\u001b[1;33m>=\u001b[0m\u001b[0mz1min\u001b[0m\u001b[1;33m]\u001b[0m\u001b[1;33m\u001b[0m\u001b[0m\n\u001b[0m\u001b[0;32m      2\u001b[0m \u001b[0mrain\u001b[0m\u001b[1;33m[\u001b[0m\u001b[1;34m\"80%humandrain\"\u001b[0m\u001b[1;33m]\u001b[0m\u001b[1;33m.\u001b[0m\u001b[0mbool\u001b[0m\u001b[1;33m(\u001b[0m\u001b[1;33m)\u001b[0m\u001b[1;33m\u001b[0m\u001b[0m\n",
      "\u001b[1;32mc:\\users\\durgasish 10\\appdata\\local\\programs\\python\\python36-32\\lib\\site-packages\\pandas\\core\\generic.py\u001b[0m in \u001b[0;36m__nonzero__\u001b[1;34m(self)\u001b[0m\n\u001b[0;32m   1328\u001b[0m     \u001b[1;32mdef\u001b[0m \u001b[0m__nonzero__\u001b[0m\u001b[1;33m(\u001b[0m\u001b[0mself\u001b[0m\u001b[1;33m)\u001b[0m\u001b[1;33m:\u001b[0m\u001b[1;33m\u001b[0m\u001b[0m\n\u001b[0;32m   1329\u001b[0m         raise ValueError(\n\u001b[1;32m-> 1330\u001b[1;33m             \u001b[1;34mf\"The truth value of a {type(self).__name__} is ambiguous. \"\u001b[0m\u001b[1;33m\u001b[0m\u001b[0m\n\u001b[0m\u001b[0;32m   1331\u001b[0m             \u001b[1;34m\"Use a.empty, a.bool(), a.item(), a.any() or a.all().\"\u001b[0m\u001b[1;33m\u001b[0m\u001b[0m\n\u001b[0;32m   1332\u001b[0m         )\n",
      "\u001b[1;31mValueError\u001b[0m: The truth value of a DataFrame is ambiguous. Use a.empty, a.bool(), a.item(), a.any() or a.all()."
     ]
    }
   ],
   "source": [
    "rain[\"80%humandrain\"]=rain[rain[\"Humidity3pm\"]>=zmin] and rain[rain[\"Temp3pm\"]>=z1min]\n",
    "rain[\"80%humandrain\"].bool()"
   ]
  },
  {
   "cell_type": "code",
   "execution_count": null,
   "id": "8b5c6acb",
   "metadata": {},
   "outputs": [],
   "source": []
  }
 ],
 "metadata": {
  "kernelspec": {
   "display_name": "Python 3",
   "language": "python",
   "name": "python3"
  },
  "language_info": {
   "codemirror_mode": {
    "name": "ipython",
    "version": 3
   },
   "file_extension": ".py",
   "mimetype": "text/x-python",
   "name": "python",
   "nbconvert_exporter": "python",
   "pygments_lexer": "ipython3",
   "version": "3.6.2"
  }
 },
 "nbformat": 4,
 "nbformat_minor": 5
}
